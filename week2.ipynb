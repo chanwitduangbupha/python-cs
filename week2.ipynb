{
 "cells": [
  {
   "cell_type": "code",
   "execution_count": 16,
   "id": "ab9d767b",
   "metadata": {},
   "outputs": [
    {
     "name": "stdout",
     "output_type": "stream",
     "text": [
      "1\n",
      "-4\n",
      "9.1\n"
     ]
    }
   ],
   "source": [
    "a = 1\n",
    "b = 2\n",
    "c = 3\n",
    "d = a\n",
    "e = d + b\n",
    "f = \"aj chanwit duangbupha\"\n",
    "\n",
    "array_from_mysql = \"11.1\"\n",
    "g = 2\n",
    "total = float(array_from_mysql) - g\n",
    "print(a)\n",
    "\n",
    "a -= 5\n",
    "print(a)\n",
    "\n",
    "\n",
    "print(total)\n"
   ]
  },
  {
   "cell_type": "code",
   "execution_count": 33,
   "id": "97f6998e",
   "metadata": {},
   "outputs": [
    {
     "name": "stdout",
     "output_type": "stream",
     "text": [
      "-12\n"
     ]
    }
   ],
   "source": [
    "def add(a, b):\n",
    "    c = a + b\n",
    "    return c\n",
    "\n",
    "def sub(a, b):\n",
    "    c = a - b \n",
    "    return c\n",
    "\n",
    "def mul(a,b):\n",
    "    c = a * b\n",
    "    return c\n",
    "\n",
    "def div(a,b):\n",
    "    c = a / b \n",
    "    return c \n",
    "\n",
    "\n",
    "a = int(input(\"input A : \"))\n",
    "b = int(input(\"input B : \"))\n",
    "\n",
    "c = mul(add(a,b), sub(a,b))\n",
    "print(c)\n",
    "\n",
    "\n",
    "\n",
    "\n",
    "\n",
    "\n",
    "\n",
    "    \n"
   ]
  }
 ],
 "metadata": {
  "kernelspec": {
   "display_name": "base",
   "language": "python",
   "name": "python3"
  },
  "language_info": {
   "codemirror_mode": {
    "name": "ipython",
    "version": 3
   },
   "file_extension": ".py",
   "mimetype": "text/x-python",
   "name": "python",
   "nbconvert_exporter": "python",
   "pygments_lexer": "ipython3",
   "version": "3.12.7"
  }
 },
 "nbformat": 4,
 "nbformat_minor": 5
}
